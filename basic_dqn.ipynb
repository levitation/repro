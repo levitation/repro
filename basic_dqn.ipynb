{
 "cells": [
  {
   "cell_type": "code",
   "execution_count": 1,
   "metadata": {},
   "outputs": [
    {
     "name": "stderr",
     "output_type": "stream",
     "text": [
      "/home/gleech/anaconda3/lib/python3.6/site-packages/h5py/__init__.py:36: FutureWarning: Conversion of the second argument of issubdtype from `float` to `np.floating` is deprecated. In future, it will be treated as `np.float64 == np.dtype(float).type`.\n",
      "  from ._conv import register_converters as _register_converters\n",
      "Using TensorFlow backend.\n"
     ]
    }
   ],
   "source": [
    "import matplotlib.pyplot as plt\n",
    "from IPython import display\n",
    "\n",
    "from ExperienceReplay import ExperienceReplay\n",
    "from Catch import Catch\n",
    "from Qnet import Qnet \n",
    "import time\n",
    "\n",
    "\n",
    "good_hyperparams =   {   \n",
    "    \"num_actions\" : 3,\n",
    "    \"hidden_size\" : 100,\n",
    "    \"grid_size\" : 10,\n",
    "    \"learning_rate\" : .2,\n",
    "    \"task\" : \"catch\"\n",
    "}\n",
    "\n",
    "\n",
    "# Indices of out-of-band signals:\n",
    "begin_action = 3\n",
    "halt_action = 4 \n",
    "grid_size = good_hyperparams['grid_size']"
   ]
  },
  {
   "cell_type": "code",
   "execution_count": 2,
   "metadata": {},
   "outputs": [],
   "source": [
    "def refresh_screen(state, im, grid_size=10):\n",
    "    display.clear_output(wait=True)\n",
    "    plt.axis('off') \n",
    "    im.set_data(state.reshape((grid_size,)*2))\n",
    "    display.display(plt.gcf())\n",
    "\n",
    "\n",
    "def test(qnet, env, rounds=10):\n",
    "    plt.ion()\n",
    "    good_hyperparams['grid_size']\n",
    "    returns = 0\n",
    "\n",
    "    for e in range(rounds) :\n",
    "        env.reset()\n",
    "        game_over = False\n",
    "        state = env.observe()\n",
    "        embiggened = state.reshape((grid_size,)*2)\n",
    "        im = plt.imshow(embiggened)\n",
    "        refresh_screen(state, im)\n",
    "\n",
    "        while not game_over :\n",
    "            action, state, returns, game_over = qnet.sars_step(env, state, returns)\n",
    "            if action is not halt_action :\n",
    "                refresh_screen(state, im)\n",
    "    \n",
    "    percentOfOptimum = returns / rounds * 100\n",
    "    print(returns, \"points; \", \"{}% of max return\".format(percentOfOptimum))"
   ]
  },
  {
   "cell_type": "code",
   "execution_count": 3,
   "metadata": {},
   "outputs": [
    {
     "data": {
      "text/plain": [
       "'\\ngood_hyperparams =   {   \\n    \"num_actions\" : 3,\\n    \"hidden_size\" : 100,\\n    \"grid_size\" : 10,\\n    \"learning_rate\" : .2,\\n    \"task\" : \"catch\"\\n}\\nqnet = Qnet(good_hyperparams, \"models/model.h5\")\\nenv = Catch(good_hyperparams[\\'grid_size\\'])\\ntest(qnet, env, rounds=10)\\n'"
      ]
     },
     "execution_count": 3,
     "metadata": {},
     "output_type": "execute_result"
    }
   ],
   "source": [
    "# To immediately load and test an 1000-epoch model uncomment this cell:\n",
    "\"\"\"\n",
    "good_hyperparams =   {   \n",
    "    \"num_actions\" : 3,\n",
    "    \"hidden_size\" : 100,\n",
    "    \"grid_size\" : 10,\n",
    "    \"learning_rate\" : .2,\n",
    "    \"task\" : \"catch\"\n",
    "}\n",
    "qnet = Qnet(good_hyperparams, \"models/model.h5\")\n",
    "env = Catch(good_hyperparams['grid_size'])\n",
    "test(qnet, env, rounds=10)\n",
    "\"\"\""
   ]
  },
  {
   "cell_type": "code",
   "execution_count": 4,
   "metadata": {},
   "outputs": [
    {
     "name": "stdout",
     "output_type": "stream",
     "text": [
      "Epoch 000/100 | Loss 0.0966| Win count 0\n",
      "Epoch 001/100 | Loss 0.2439| Win count 0\n",
      "Epoch 002/100 | Loss 0.2023| Win count 0\n",
      "Epoch 003/100 | Loss 0.2138| Win count 1\n",
      "Epoch 004/100 | Loss 0.2091| Win count 2\n",
      "Epoch 005/100 | Loss 0.1503| Win count 3\n",
      "Epoch 006/100 | Loss 0.2455| Win count 4\n",
      "Epoch 007/100 | Loss 0.2463| Win count 4\n",
      "Epoch 008/100 | Loss 0.2138| Win count 5\n",
      "Epoch 009/100 | Loss 0.2016| Win count 5\n",
      "Epoch 010/100 | Loss 0.1689| Win count 6\n",
      "Epoch 011/100 | Loss 0.2363| Win count 6\n",
      "Epoch 012/100 | Loss 0.2441| Win count 6\n",
      "Epoch 013/100 | Loss 0.2199| Win count 6\n",
      "Epoch 014/100 | Loss 0.2203| Win count 6\n",
      "Epoch 015/100 | Loss 0.2530| Win count 6\n",
      "Epoch 016/100 | Loss 0.2016| Win count 6\n",
      "Epoch 017/100 | Loss 0.2181| Win count 6\n",
      "Epoch 018/100 | Loss 0.2665| Win count 6\n",
      "Epoch 019/100 | Loss 0.1858| Win count 6\n",
      "Epoch 020/100 | Loss 0.2489| Win count 7\n",
      "Epoch 021/100 | Loss 0.2652| Win count 7\n",
      "Epoch 022/100 | Loss 0.2032| Win count 8\n",
      "Epoch 023/100 | Loss 0.1713| Win count 8\n",
      "Epoch 024/100 | Loss 0.2081| Win count 8\n",
      "Epoch 025/100 | Loss 0.2196| Win count 9\n",
      "Epoch 026/100 | Loss 0.1881| Win count 9\n",
      "Epoch 027/100 | Loss 0.2960| Win count 10\n",
      "Epoch 028/100 | Loss 0.2667| Win count 10\n",
      "Epoch 029/100 | Loss 0.2719| Win count 11\n",
      "Epoch 030/100 | Loss 0.2172| Win count 11\n",
      "Epoch 031/100 | Loss 0.3159| Win count 11\n",
      "Epoch 032/100 | Loss 0.2362| Win count 11\n",
      "Epoch 033/100 | Loss 0.2784| Win count 11\n",
      "Epoch 034/100 | Loss 0.2339| Win count 12\n",
      "Epoch 035/100 | Loss 0.2876| Win count 13\n",
      "Epoch 036/100 | Loss 0.2498| Win count 13\n",
      "Epoch 037/100 | Loss 0.1837| Win count 13\n",
      "Epoch 038/100 | Loss 0.2622| Win count 13\n",
      "Epoch 039/100 | Loss 0.2239| Win count 13\n",
      "Epoch 040/100 | Loss 0.1976| Win count 13\n",
      "Epoch 041/100 | Loss 0.2118| Win count 14\n",
      "Epoch 042/100 | Loss 0.2915| Win count 14\n",
      "Epoch 043/100 | Loss 0.2343| Win count 15\n",
      "Epoch 044/100 | Loss 0.2305| Win count 15\n",
      "Epoch 045/100 | Loss 0.2542| Win count 15\n",
      "Epoch 046/100 | Loss 0.1765| Win count 15\n",
      "Epoch 047/100 | Loss 0.2107| Win count 15\n",
      "Epoch 048/100 | Loss 0.2278| Win count 15\n",
      "Epoch 049/100 | Loss 0.2396| Win count 16\n",
      "Epoch 050/100 | Loss 0.1883| Win count 16\n",
      "Epoch 051/100 | Loss 0.2240| Win count 17\n",
      "Epoch 052/100 | Loss 0.1753| Win count 17\n",
      "Epoch 053/100 | Loss 0.1628| Win count 17\n",
      "Epoch 054/100 | Loss 0.2084| Win count 18\n",
      "Epoch 055/100 | Loss 0.1706| Win count 19\n",
      "Epoch 056/100 | Loss 0.2046| Win count 19\n",
      "Epoch 057/100 | Loss 0.1681| Win count 20\n",
      "Epoch 058/100 | Loss 0.1743| Win count 20\n",
      "Epoch 059/100 | Loss 0.1344| Win count 20\n",
      "Epoch 060/100 | Loss 0.1844| Win count 20\n",
      "Epoch 061/100 | Loss 0.1649| Win count 20\n",
      "Epoch 062/100 | Loss 0.1614| Win count 21\n",
      "Epoch 063/100 | Loss 0.1746| Win count 22\n",
      "Epoch 064/100 | Loss 0.2126| Win count 23\n",
      "Epoch 065/100 | Loss 0.1653| Win count 23\n",
      "Epoch 066/100 | Loss 0.2034| Win count 23\n",
      "Epoch 067/100 | Loss 0.1795| Win count 23\n",
      "Epoch 068/100 | Loss 0.1704| Win count 23\n",
      "Epoch 069/100 | Loss 0.1985| Win count 24\n",
      "Epoch 070/100 | Loss 0.1922| Win count 24\n",
      "Epoch 071/100 | Loss 0.1738| Win count 25\n",
      "Epoch 072/100 | Loss 0.1752| Win count 26\n",
      "Epoch 073/100 | Loss 0.1662| Win count 26\n",
      "Epoch 074/100 | Loss 0.1790| Win count 27\n",
      "Epoch 075/100 | Loss 0.1742| Win count 28\n",
      "Epoch 076/100 | Loss 0.1452| Win count 28\n",
      "Epoch 077/100 | Loss 0.1778| Win count 29\n",
      "Epoch 078/100 | Loss 0.1720| Win count 30\n",
      "Epoch 079/100 | Loss 0.1664| Win count 31\n",
      "Epoch 080/100 | Loss 0.2382| Win count 31\n",
      "Epoch 081/100 | Loss 0.1243| Win count 32\n",
      "Epoch 082/100 | Loss 0.1609| Win count 32\n",
      "Epoch 083/100 | Loss 0.1944| Win count 32\n",
      "Epoch 084/100 | Loss 0.1600| Win count 32\n",
      "Epoch 085/100 | Loss 0.1604| Win count 32\n",
      "Epoch 086/100 | Loss 0.1631| Win count 33\n",
      "Epoch 087/100 | Loss 0.2030| Win count 34\n",
      "Epoch 088/100 | Loss 0.1418| Win count 34\n",
      "Epoch 089/100 | Loss 0.1327| Win count 34\n",
      "Epoch 090/100 | Loss 0.1702| Win count 34\n",
      "Epoch 091/100 | Loss 0.1509| Win count 34\n",
      "Epoch 092/100 | Loss 0.1709| Win count 34\n",
      "Epoch 093/100 | Loss 0.2312| Win count 34\n",
      "Epoch 094/100 | Loss 0.2136| Win count 34\n",
      "Epoch 095/100 | Loss 0.1461| Win count 35\n",
      "Epoch 096/100 | Loss 0.1402| Win count 35\n",
      "Epoch 097/100 | Loss 0.1676| Win count 35\n",
      "Epoch 098/100 | Loss 0.1515| Win count 35\n",
      "Epoch 099/100 | Loss 0.1552| Win count 35\n"
     ]
    }
   ],
   "source": [
    "memories = 200\n",
    "batches = 50\n",
    "epochs = 300\n",
    "\n",
    "qnet = Qnet(good_hyperparams)\n",
    "env = Catch(good_hyperparams['grid_size'])\n",
    "replayer = ExperienceReplay(capacity=memories, discount=.9)\n",
    "qnet.train(replayer, env, epochs=epochs, batch_size=batches)\n",
    "# qnet.save()"
   ]
  },
  {
   "cell_type": "code",
   "execution_count": 6,
   "metadata": {},
   "outputs": [
    {
     "data": {
      "image/png": "[encoded data removed]",
      "text/plain": [
       "<Figure size 432x288 with 1 Axes>"
      ]
     },
     "metadata": {},
     "output_type": "display_data"
    },
    {
     "name": "stdout",
     "output_type": "stream",
     "text": [
      "-2 points;  -20.0% of max return\n"
     ]
    },
    {
     "data": {
      "image/png": "[encoded data removed]",
      "text/plain": [
       "<Figure size 432x288 with 1 Axes>"
      ]
     },
     "metadata": {},
     "output_type": "display_data"
    }
   ],
   "source": [
    "test(qnet, env, 10)"
   ]
  }
 ],
 "metadata": {
  "kernelspec": {
   "display_name": "Python 3",
   "language": "python",
   "name": "python3"
  },
  "language_info": {
   "codemirror_mode": {
    "name": "ipython",
    "version": 3
   },
   "file_extension": ".py",
   "mimetype": "text/x-python",
   "name": "python",
   "nbconvert_exporter": "python",
   "pygments_lexer": "ipython3",
   "version": "3.6.4"
  }
 },
 "nbformat": 4,
 "nbformat_minor": 2
}
